{
  "nbformat": 4,
  "nbformat_minor": 0,
  "metadata": {
    "colab": {
      "name": "ML_tipatima.ipynb",
      "provenance": [],
      "collapsed_sections": []
    },
    "kernelspec": {
      "name": "python3",
      "display_name": "Python 3"
    },
    "language_info": {
      "name": "python"
    }
  },
  "cells": [
    {
      "cell_type": "code",
      "execution_count": null,
      "metadata": {
        "id": "XDGJzZrCIKnp"
      },
      "outputs": [],
      "source": [
        "# для работы с загрузкой файлов\n",
        "import zipfile\n",
        "import os\n",
        "from PIL import Image\n",
        "from google.colab import drive\n",
        "\n",
        "# для работы с данными\n",
        "import pandas as pd\n",
        "import numpy as np"
      ]
    },
    {
      "cell_type": "markdown",
      "source": [
        "Чтобы всё работала, нужно загрузить все файлы локально в главную папку.\n",
        "Загружал так, как было предложенно(zip) и их распаковал."
      ],
      "metadata": {
        "id": "5B3uzEPcVveZ"
      }
    },
    {
      "cell_type": "code",
      "source": [
        "files = ['images', 'test.csv', 'train.csv']\n",
        "for file in files:\n",
        "  z = zipfile.ZipFile(f'/content/{file}.zip', 'r')\n",
        "  z.extractall()\n",
        "\n",
        "print(os.listdir()) # все файлы в папке"
      ],
      "metadata": {
        "colab": {
          "base_uri": "https://localhost:8080/"
        },
        "id": "6P8K9IuZVvS2",
        "outputId": "4b7004ab-1c71-4f07-f199-c198c387f093"
      },
      "execution_count": null,
      "outputs": [
        {
          "output_type": "stream",
          "name": "stdout",
          "text": [
            "['.config', '.ipynb_checkpoints', 'images', 'train.csv.zip', 'test.csv.zip', 'train.csv', 'test.csv', 'images.zip', 'sample_data']\n"
          ]
        }
      ]
    },
    {
      "cell_type": "code",
      "source": [
        "# загрузили таблички\n",
        "train = pd.read_csv('train.csv')\n",
        "test = pd.read_csv('test.csv')"
      ],
      "metadata": {
        "id": "ja7hk_rUXs74"
      },
      "execution_count": null,
      "outputs": []
    },
    {
      "cell_type": "markdown",
      "source": [
        "# 10"
      ],
      "metadata": {
        "id": "3pjde9BLXmtM"
      }
    },
    {
      "cell_type": "markdown",
      "source": [
        "Количество изображений в датасете:"
      ],
      "metadata": {
        "id": "vd4CamtBYPZj"
      }
    },
    {
      "cell_type": "code",
      "source": [
        "img_c = len(os.listdir('images'))\n",
        "print(img_c)"
      ],
      "metadata": {
        "colab": {
          "base_uri": "https://localhost:8080/"
        },
        "id": "DTwpfzt6Xp0S",
        "outputId": "e0723202-9205-4986-c891-9761eae3a596"
      },
      "execution_count": null,
      "outputs": [
        {
          "output_type": "stream",
          "name": "stdout",
          "text": [
            "1584\n"
          ]
        }
      ]
    },
    {
      "cell_type": "markdown",
      "source": [
        "Посчитаем среднюю высоту и ширину"
      ],
      "metadata": {
        "id": "YC0YYA-3YbuP"
      }
    },
    {
      "cell_type": "code",
      "source": [
        "avg_h = 0\n",
        "avg_w = 0\n",
        "img_dir = os.listdir('images')\n",
        "for cur_f in img_dir:\n",
        "  img = Image.open(f'images/{cur_f}') \n",
        "  width, height = img.size # первая ширина, вторая высота\n",
        "  avg_h += height\n",
        "  avg_w += width\n",
        "\n",
        "avg_h /= img_c\n",
        "avg_w /= img_c\n",
        "print(f'Средняя высота(округленна) - {round(avg_h)}')\n",
        "print(f'Средняя ширина(округленна) - {round(avg_w)}')"
      ],
      "metadata": {
        "colab": {
          "base_uri": "https://localhost:8080/"
        },
        "id": "4Bx3VdMpUIKX",
        "outputId": "e781d87e-f1e7-4033-9344-87a592468e7b"
      },
      "execution_count": null,
      "outputs": [
        {
          "output_type": "stream",
          "name": "stdout",
          "text": [
            "Средняя высота(округленна) - 493\n",
            "Средняя ширина(округленна) - 693\n"
          ]
        }
      ]
    }
  ]
}